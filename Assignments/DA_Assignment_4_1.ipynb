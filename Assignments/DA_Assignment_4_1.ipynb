{
  "nbformat": 4,
  "nbformat_minor": 0,
  "metadata": {
    "colab": {
      "name": "DA_Assignment_4.ipynb",
      "provenance": [],
      "collapsed_sections": [],
      "authorship_tag": "ABX9TyPH19wpOIa6iksvYX8zw9xf",
      "include_colab_link": true
    },
    "kernelspec": {
      "name": "python3",
      "display_name": "Python 3"
    },
    "language_info": {
      "name": "python"
    }
  },
  "cells": [
    {
      "cell_type": "markdown",
      "metadata": {
        "id": "view-in-github",
        "colab_type": "text"
      },
      "source": [
        "<a href=\"https://colab.research.google.com/github/BharatXBhalla/Data-Analytics-CDAC/blob/main/Assignments/DA_Assignment_4_1.ipynb\" target=\"_parent\"><img src=\"https://colab.research.google.com/assets/colab-badge.svg\" alt=\"Open In Colab\"/></a>"
      ]
    },
    {
      "cell_type": "code",
      "execution_count": 1,
      "metadata": {
        "id": "hoGo5VcbIX_L"
      },
      "outputs": [],
      "source": [
        "import matplotlib.pyplot as plt\n",
        "import seaborn as sns\n",
        "import numpy as np\n",
        "import pandas as pd"
      ]
    },
    {
      "cell_type": "markdown",
      "source": [
        "# Analyzing the average heights of NBA *Players*"
      ],
      "metadata": {
        "id": "BKfOyRopJuF6"
      }
    },
    {
      "cell_type": "code",
      "source": [
        "df = pd.read_csv(\"players.csv\")"
      ],
      "metadata": {
        "id": "sn9lNANwJnnX"
      },
      "execution_count": 2,
      "outputs": []
    },
    {
      "cell_type": "code",
      "source": [
        "df.head()"
      ],
      "metadata": {
        "colab": {
          "base_uri": "https://localhost:8080/",
          "height": 408
        },
        "id": "7Y7mLceAJub7",
        "outputId": "de97cca1-9d39-4f3f-e1cd-f63ea2ca5aef"
      },
      "execution_count": 3,
      "outputs": [
        {
          "output_type": "execute_result",
          "data": {
            "text/html": [
              "\n",
              "  <div id=\"df-34e1b790-02ce-46af-8630-123873378a21\">\n",
              "    <div class=\"colab-df-container\">\n",
              "      <div>\n",
              "<style scoped>\n",
              "    .dataframe tbody tr th:only-of-type {\n",
              "        vertical-align: middle;\n",
              "    }\n",
              "\n",
              "    .dataframe tbody tr th {\n",
              "        vertical-align: top;\n",
              "    }\n",
              "\n",
              "    .dataframe thead th {\n",
              "        text-align: right;\n",
              "    }\n",
              "</style>\n",
              "<table border=\"1\" class=\"dataframe\">\n",
              "  <thead>\n",
              "    <tr style=\"text-align: right;\">\n",
              "      <th></th>\n",
              "      <th>Name</th>\n",
              "      <th>Games Played</th>\n",
              "      <th>MIN</th>\n",
              "      <th>PTS</th>\n",
              "      <th>FGM</th>\n",
              "      <th>FGA</th>\n",
              "      <th>FG%</th>\n",
              "      <th>3PM</th>\n",
              "      <th>3PA</th>\n",
              "      <th>3P%</th>\n",
              "      <th>FTM</th>\n",
              "      <th>FTA</th>\n",
              "      <th>FT%</th>\n",
              "      <th>OREB</th>\n",
              "      <th>DREB</th>\n",
              "      <th>REB</th>\n",
              "      <th>AST</th>\n",
              "      <th>STL</th>\n",
              "      <th>BLK</th>\n",
              "      <th>TOV</th>\n",
              "      <th>PF</th>\n",
              "      <th>EFF</th>\n",
              "      <th>AST/TOV</th>\n",
              "      <th>STL/TOV</th>\n",
              "      <th>Age</th>\n",
              "      <th>Birth_Place</th>\n",
              "      <th>Birthdate</th>\n",
              "      <th>Collage</th>\n",
              "      <th>Experience</th>\n",
              "      <th>Height</th>\n",
              "      <th>Pos</th>\n",
              "      <th>Team</th>\n",
              "      <th>Weight</th>\n",
              "      <th>BMI</th>\n",
              "    </tr>\n",
              "  </thead>\n",
              "  <tbody>\n",
              "    <tr>\n",
              "      <th>0</th>\n",
              "      <td>AJ Price</td>\n",
              "      <td>26</td>\n",
              "      <td>324</td>\n",
              "      <td>133</td>\n",
              "      <td>51</td>\n",
              "      <td>137</td>\n",
              "      <td>37.2</td>\n",
              "      <td>15</td>\n",
              "      <td>57</td>\n",
              "      <td>26.3</td>\n",
              "      <td>16</td>\n",
              "      <td>24</td>\n",
              "      <td>66.7</td>\n",
              "      <td>6</td>\n",
              "      <td>26</td>\n",
              "      <td>32</td>\n",
              "      <td>46</td>\n",
              "      <td>7</td>\n",
              "      <td>0</td>\n",
              "      <td>14</td>\n",
              "      <td>15</td>\n",
              "      <td>110</td>\n",
              "      <td>3.29</td>\n",
              "      <td>0.50</td>\n",
              "      <td>29.0</td>\n",
              "      <td>us</td>\n",
              "      <td>October 7, 1986</td>\n",
              "      <td>University of Connecticut</td>\n",
              "      <td>5</td>\n",
              "      <td>185.0</td>\n",
              "      <td>PG</td>\n",
              "      <td>PHO</td>\n",
              "      <td>81.45</td>\n",
              "      <td>23.798393</td>\n",
              "    </tr>\n",
              "    <tr>\n",
              "      <th>1</th>\n",
              "      <td>Aaron Brooks</td>\n",
              "      <td>82</td>\n",
              "      <td>1885</td>\n",
              "      <td>954</td>\n",
              "      <td>344</td>\n",
              "      <td>817</td>\n",
              "      <td>42.1</td>\n",
              "      <td>121</td>\n",
              "      <td>313</td>\n",
              "      <td>38.7</td>\n",
              "      <td>145</td>\n",
              "      <td>174</td>\n",
              "      <td>83.3</td>\n",
              "      <td>32</td>\n",
              "      <td>134</td>\n",
              "      <td>166</td>\n",
              "      <td>261</td>\n",
              "      <td>54</td>\n",
              "      <td>15</td>\n",
              "      <td>157</td>\n",
              "      <td>189</td>\n",
              "      <td>791</td>\n",
              "      <td>1.66</td>\n",
              "      <td>0.34</td>\n",
              "      <td>30.0</td>\n",
              "      <td>us</td>\n",
              "      <td>January 14, 1985</td>\n",
              "      <td>University of Oregon</td>\n",
              "      <td>6</td>\n",
              "      <td>180.0</td>\n",
              "      <td>PG</td>\n",
              "      <td>CHI</td>\n",
              "      <td>72.45</td>\n",
              "      <td>22.361111</td>\n",
              "    </tr>\n",
              "    <tr>\n",
              "      <th>2</th>\n",
              "      <td>Aaron Gordon</td>\n",
              "      <td>47</td>\n",
              "      <td>797</td>\n",
              "      <td>243</td>\n",
              "      <td>93</td>\n",
              "      <td>208</td>\n",
              "      <td>44.7</td>\n",
              "      <td>13</td>\n",
              "      <td>48</td>\n",
              "      <td>27.1</td>\n",
              "      <td>44</td>\n",
              "      <td>61</td>\n",
              "      <td>72.1</td>\n",
              "      <td>46</td>\n",
              "      <td>123</td>\n",
              "      <td>169</td>\n",
              "      <td>33</td>\n",
              "      <td>21</td>\n",
              "      <td>22</td>\n",
              "      <td>38</td>\n",
              "      <td>83</td>\n",
              "      <td>318</td>\n",
              "      <td>0.87</td>\n",
              "      <td>0.55</td>\n",
              "      <td>20.0</td>\n",
              "      <td>us</td>\n",
              "      <td>September 16, 1995</td>\n",
              "      <td>University of Arizona</td>\n",
              "      <td>R</td>\n",
              "      <td>202.5</td>\n",
              "      <td>PF</td>\n",
              "      <td>ORL</td>\n",
              "      <td>99.00</td>\n",
              "      <td>24.142661</td>\n",
              "    </tr>\n",
              "    <tr>\n",
              "      <th>3</th>\n",
              "      <td>Adreian Payne</td>\n",
              "      <td>32</td>\n",
              "      <td>740</td>\n",
              "      <td>213</td>\n",
              "      <td>91</td>\n",
              "      <td>220</td>\n",
              "      <td>41.4</td>\n",
              "      <td>1</td>\n",
              "      <td>9</td>\n",
              "      <td>11.1</td>\n",
              "      <td>30</td>\n",
              "      <td>46</td>\n",
              "      <td>65.2</td>\n",
              "      <td>48</td>\n",
              "      <td>114</td>\n",
              "      <td>162</td>\n",
              "      <td>30</td>\n",
              "      <td>19</td>\n",
              "      <td>9</td>\n",
              "      <td>44</td>\n",
              "      <td>88</td>\n",
              "      <td>244</td>\n",
              "      <td>0.68</td>\n",
              "      <td>0.43</td>\n",
              "      <td>24.0</td>\n",
              "      <td>us</td>\n",
              "      <td>February 19, 1991</td>\n",
              "      <td>Michigan State University</td>\n",
              "      <td>R</td>\n",
              "      <td>205.0</td>\n",
              "      <td>PF</td>\n",
              "      <td>ATL</td>\n",
              "      <td>106.65</td>\n",
              "      <td>25.377751</td>\n",
              "    </tr>\n",
              "    <tr>\n",
              "      <th>4</th>\n",
              "      <td>Al Horford</td>\n",
              "      <td>76</td>\n",
              "      <td>2318</td>\n",
              "      <td>1156</td>\n",
              "      <td>519</td>\n",
              "      <td>965</td>\n",
              "      <td>53.8</td>\n",
              "      <td>11</td>\n",
              "      <td>36</td>\n",
              "      <td>30.6</td>\n",
              "      <td>107</td>\n",
              "      <td>141</td>\n",
              "      <td>75.9</td>\n",
              "      <td>131</td>\n",
              "      <td>413</td>\n",
              "      <td>544</td>\n",
              "      <td>244</td>\n",
              "      <td>68</td>\n",
              "      <td>98</td>\n",
              "      <td>100</td>\n",
              "      <td>121</td>\n",
              "      <td>1530</td>\n",
              "      <td>2.44</td>\n",
              "      <td>0.68</td>\n",
              "      <td>29.0</td>\n",
              "      <td>do</td>\n",
              "      <td>June 3, 1986</td>\n",
              "      <td>University of Florida</td>\n",
              "      <td>7</td>\n",
              "      <td>205.0</td>\n",
              "      <td>C</td>\n",
              "      <td>ATL</td>\n",
              "      <td>110.25</td>\n",
              "      <td>26.234384</td>\n",
              "    </tr>\n",
              "  </tbody>\n",
              "</table>\n",
              "</div>\n",
              "      <button class=\"colab-df-convert\" onclick=\"convertToInteractive('df-34e1b790-02ce-46af-8630-123873378a21')\"\n",
              "              title=\"Convert this dataframe to an interactive table.\"\n",
              "              style=\"display:none;\">\n",
              "        \n",
              "  <svg xmlns=\"http://www.w3.org/2000/svg\" height=\"24px\"viewBox=\"0 0 24 24\"\n",
              "       width=\"24px\">\n",
              "    <path d=\"M0 0h24v24H0V0z\" fill=\"none\"/>\n",
              "    <path d=\"M18.56 5.44l.94 2.06.94-2.06 2.06-.94-2.06-.94-.94-2.06-.94 2.06-2.06.94zm-11 1L8.5 8.5l.94-2.06 2.06-.94-2.06-.94L8.5 2.5l-.94 2.06-2.06.94zm10 10l.94 2.06.94-2.06 2.06-.94-2.06-.94-.94-2.06-.94 2.06-2.06.94z\"/><path d=\"M17.41 7.96l-1.37-1.37c-.4-.4-.92-.59-1.43-.59-.52 0-1.04.2-1.43.59L10.3 9.45l-7.72 7.72c-.78.78-.78 2.05 0 2.83L4 21.41c.39.39.9.59 1.41.59.51 0 1.02-.2 1.41-.59l7.78-7.78 2.81-2.81c.8-.78.8-2.07 0-2.86zM5.41 20L4 18.59l7.72-7.72 1.47 1.35L5.41 20z\"/>\n",
              "  </svg>\n",
              "      </button>\n",
              "      \n",
              "  <style>\n",
              "    .colab-df-container {\n",
              "      display:flex;\n",
              "      flex-wrap:wrap;\n",
              "      gap: 12px;\n",
              "    }\n",
              "\n",
              "    .colab-df-convert {\n",
              "      background-color: #E8F0FE;\n",
              "      border: none;\n",
              "      border-radius: 50%;\n",
              "      cursor: pointer;\n",
              "      display: none;\n",
              "      fill: #1967D2;\n",
              "      height: 32px;\n",
              "      padding: 0 0 0 0;\n",
              "      width: 32px;\n",
              "    }\n",
              "\n",
              "    .colab-df-convert:hover {\n",
              "      background-color: #E2EBFA;\n",
              "      box-shadow: 0px 1px 2px rgba(60, 64, 67, 0.3), 0px 1px 3px 1px rgba(60, 64, 67, 0.15);\n",
              "      fill: #174EA6;\n",
              "    }\n",
              "\n",
              "    [theme=dark] .colab-df-convert {\n",
              "      background-color: #3B4455;\n",
              "      fill: #D2E3FC;\n",
              "    }\n",
              "\n",
              "    [theme=dark] .colab-df-convert:hover {\n",
              "      background-color: #434B5C;\n",
              "      box-shadow: 0px 1px 3px 1px rgba(0, 0, 0, 0.15);\n",
              "      filter: drop-shadow(0px 1px 2px rgba(0, 0, 0, 0.3));\n",
              "      fill: #FFFFFF;\n",
              "    }\n",
              "  </style>\n",
              "\n",
              "      <script>\n",
              "        const buttonEl =\n",
              "          document.querySelector('#df-34e1b790-02ce-46af-8630-123873378a21 button.colab-df-convert');\n",
              "        buttonEl.style.display =\n",
              "          google.colab.kernel.accessAllowed ? 'block' : 'none';\n",
              "\n",
              "        async function convertToInteractive(key) {\n",
              "          const element = document.querySelector('#df-34e1b790-02ce-46af-8630-123873378a21');\n",
              "          const dataTable =\n",
              "            await google.colab.kernel.invokeFunction('convertToInteractive',\n",
              "                                                     [key], {});\n",
              "          if (!dataTable) return;\n",
              "\n",
              "          const docLinkHtml = 'Like what you see? Visit the ' +\n",
              "            '<a target=\"_blank\" href=https://colab.research.google.com/notebooks/data_table.ipynb>data table notebook</a>'\n",
              "            + ' to learn more about interactive tables.';\n",
              "          element.innerHTML = '';\n",
              "          dataTable['output_type'] = 'display_data';\n",
              "          await google.colab.output.renderOutput(dataTable, element);\n",
              "          const docLink = document.createElement('div');\n",
              "          docLink.innerHTML = docLinkHtml;\n",
              "          element.appendChild(docLink);\n",
              "        }\n",
              "      </script>\n",
              "    </div>\n",
              "  </div>\n",
              "  "
            ],
            "text/plain": [
              "            Name  Games Played   MIN   PTS  ...  Pos  Team  Weight        BMI\n",
              "0       AJ Price            26   324   133  ...   PG   PHO   81.45  23.798393\n",
              "1   Aaron Brooks            82  1885   954  ...   PG   CHI   72.45  22.361111\n",
              "2   Aaron Gordon            47   797   243  ...   PF   ORL   99.00  24.142661\n",
              "3  Adreian Payne            32   740   213  ...   PF   ATL  106.65  25.377751\n",
              "4     Al Horford            76  2318  1156  ...    C   ATL  110.25  26.234384\n",
              "\n",
              "[5 rows x 34 columns]"
            ]
          },
          "metadata": {},
          "execution_count": 3
        }
      ]
    },
    {
      "cell_type": "code",
      "source": [
        "df.shape"
      ],
      "metadata": {
        "colab": {
          "base_uri": "https://localhost:8080/"
        },
        "id": "IIR0qWlbJ0j0",
        "outputId": "ab743704-94d4-46a9-d749-85787076ddac"
      },
      "execution_count": 4,
      "outputs": [
        {
          "output_type": "execute_result",
          "data": {
            "text/plain": [
              "(490, 34)"
            ]
          },
          "metadata": {},
          "execution_count": 4
        }
      ]
    },
    {
      "cell_type": "markdown",
      "source": [
        "#### Hypothesis Testing\n",
        "\n",
        "One Sample Significance Test for Mean is extremely similar to that for Proportion. We will go through almost an identical process.\n",
        "\n",
        "The hypotheses are defined as follows:\n",
        "* **Null Hypothesis**: The average height of an NBA player is 200.66 cm.\n",
        "* **Alternate Hypothesis**: The average height of an NBA player is not 200.66 cm.\n",
        "\n",
        "Significance Level, $\\alpha$ is at 0.05. Assuming Null Hypothesis to be true."
      ],
      "metadata": {
        "id": "leUnDozrJ-0N"
      }
    },
    {
      "cell_type": "code",
      "source": [
        "population_mean = 200.66"
      ],
      "metadata": {
        "id": "g78SEup-J5IV"
      },
      "execution_count": 5,
      "outputs": []
    },
    {
      "cell_type": "code",
      "source": [
        "sample_mean = df[\"Height\"].dropna().mean()\n",
        "sample_mean"
      ],
      "metadata": {
        "colab": {
          "base_uri": "https://localhost:8080/"
        },
        "id": "NlcrE_4GJ_KH",
        "outputId": "c21ebb07-74e2-4959-e495-b96fd1addbe4"
      },
      "execution_count": 6,
      "outputs": [
        {
          "output_type": "execute_result",
          "data": {
            "text/plain": [
              "197.44075829383885"
            ]
          },
          "metadata": {},
          "execution_count": 6
        }
      ]
    },
    {
      "cell_type": "code",
      "source": [
        "sigma = df[\"Height\"].dropna().std()/np.sqrt(len(df.dropna())-1)"
      ],
      "metadata": {
        "id": "a4UPTbfdKOct"
      },
      "execution_count": 7,
      "outputs": []
    },
    {
      "cell_type": "code",
      "source": [
        "from scipy import stats"
      ],
      "metadata": {
        "id": "ifmLldXSLFV5"
      },
      "execution_count": 8,
      "outputs": []
    },
    {
      "cell_type": "code",
      "source": [
        "z = (sample_mean-population_mean)/sigma"
      ],
      "metadata": {
        "id": "vSsRFu9ZLJXV"
      },
      "execution_count": 9,
      "outputs": []
    },
    {
      "cell_type": "code",
      "source": [
        "p_val=(1-stats.norm.cdf(np.abs(z)))*2"
      ],
      "metadata": {
        "id": "KVhH0eRALQIS"
      },
      "execution_count": 10,
      "outputs": []
    },
    {
      "cell_type": "code",
      "source": [
        "p_val"
      ],
      "metadata": {
        "colab": {
          "base_uri": "https://localhost:8080/"
        },
        "id": "2_p2HlQMLYiE",
        "outputId": "b73def51-60a7-494a-caa4-205df37ff803"
      },
      "execution_count": 11,
      "outputs": [
        {
          "output_type": "execute_result",
          "data": {
            "text/plain": [
              "5.949463144361289e-12"
            ]
          },
          "metadata": {},
          "execution_count": 11
        }
      ]
    },
    {
      "cell_type": "markdown",
      "source": [
        "The p value obtained is much lesser than the significance level $\\alpha$. We therefore reject the null hypothesis and accept the alternate hypothesis (the negation). We can therefore arrive at the following conclusion from this analysis:\n",
        "\n",
        "**The average height of NBA Players is NOT 6'7\"**."
      ],
      "metadata": {
        "id": "-0Xb7ZJSLosk"
      }
    },
    {
      "cell_type": "markdown",
      "source": [
        "## Using Standard Libraries"
      ],
      "metadata": {
        "id": "MkqwkEjxLrG6"
      }
    },
    {
      "cell_type": "code",
      "source": [
        "import statsmodels.api as sm"
      ],
      "metadata": {
        "colab": {
          "base_uri": "https://localhost:8080/"
        },
        "id": "ic44rPslLiff",
        "outputId": "ac4f6b7c-43b8-4cd8-f431-e0c736b30e7a"
      },
      "execution_count": 12,
      "outputs": [
        {
          "output_type": "stream",
          "name": "stderr",
          "text": [
            "/usr/local/lib/python3.7/dist-packages/statsmodels/tools/_testing.py:19: FutureWarning: pandas.util.testing is deprecated. Use the functions in the public API at pandas.testing instead.\n",
            "  import pandas.util.testing as tm\n"
          ]
        }
      ]
    },
    {
      "cell_type": "code",
      "source": [
        "sm.stats.ztest(df[\"Height\"].dropna(),value=population_mean)"
      ],
      "metadata": {
        "colab": {
          "base_uri": "https://localhost:8080/"
        },
        "id": "N-WaDQTsLpCw",
        "outputId": "97ee5528-e10e-4b3e-b64c-9f9ac85daca0"
      },
      "execution_count": 13,
      "outputs": [
        {
          "output_type": "execute_result",
          "data": {
            "text/plain": [
              "(-7.566341847897391, 3.838810356044806e-14)"
            ]
          },
          "metadata": {},
          "execution_count": 13
        }
      ]
    },
    {
      "cell_type": "markdown",
      "source": [
        "# Analyzing DEPRESSION in India by Gender\n",
        "\n",
        "Are men as likely to commit suicide as women?\n",
        "\n",
        "This is the question we will attempt at answering in this section. To answer this question, we will use suicide statistics shared by the National Crime Records Bureau (NCRB), Govt of India. To perform this analysis, we need to know the sex ratio in India. The Census 2011 report states that there are 940 females for every 1000 males in India.\n",
        "\n",
        "Let p denote the fraction of women in India."
      ],
      "metadata": {
        "id": "jm_zoPJDQfw4"
      }
    },
    {
      "cell_type": "markdown",
      "source": [
        "###H0:MEN AND WOMEN  ARE EQUALLY LIKELY TO DEPRESS    (NULL)\n",
        "### H1:MEN AND WOMEN  ARE  NOT EQUALLY LIKELY TO DEPRESS  (ALTERNATE)\n"
      ],
      "metadata": {
        "id": "WSzXuk9kQp4G"
      }
    },
    {
      "cell_type": "code",
      "source": [
        "proportion_female=940/(940+1000)"
      ],
      "metadata": {
        "id": "cVHWgX3pLyNC"
      },
      "execution_count": 14,
      "outputs": []
    },
    {
      "cell_type": "code",
      "source": [
        "proportion_male=1-proportion_female"
      ],
      "metadata": {
        "id": "-glHA92uP8WV"
      },
      "execution_count": 15,
      "outputs": []
    },
    {
      "cell_type": "code",
      "source": [
        "df=pd.read_excel(\"Suicides.xlsx\")\n",
        "df.head()"
      ],
      "metadata": {
        "colab": {
          "base_uri": "https://localhost:8080/",
          "height": 206
        },
        "id": "mEdZ_Rh7Q8zQ",
        "outputId": "1503ae97-9e9e-4fa4-c343-dfcdca0b4f0c"
      },
      "execution_count": 18,
      "outputs": [
        {
          "output_type": "execute_result",
          "data": {
            "text/html": [
              "\n",
              "  <div id=\"df-de2033d2-9ef0-4326-ba23-db8aea8123b5\">\n",
              "    <div class=\"colab-df-container\">\n",
              "      <div>\n",
              "<style scoped>\n",
              "    .dataframe tbody tr th:only-of-type {\n",
              "        vertical-align: middle;\n",
              "    }\n",
              "\n",
              "    .dataframe tbody tr th {\n",
              "        vertical-align: top;\n",
              "    }\n",
              "\n",
              "    .dataframe thead th {\n",
              "        text-align: right;\n",
              "    }\n",
              "</style>\n",
              "<table border=\"1\" class=\"dataframe\">\n",
              "  <thead>\n",
              "    <tr style=\"text-align: right;\">\n",
              "      <th></th>\n",
              "      <th>State</th>\n",
              "      <th>Year</th>\n",
              "      <th>Type_code</th>\n",
              "      <th>Type</th>\n",
              "      <th>Gender</th>\n",
              "      <th>Age_group</th>\n",
              "      <th>Total</th>\n",
              "    </tr>\n",
              "  </thead>\n",
              "  <tbody>\n",
              "    <tr>\n",
              "      <th>0</th>\n",
              "      <td>A &amp; N Islands</td>\n",
              "      <td>2001</td>\n",
              "      <td>Causes</td>\n",
              "      <td>Illness (Aids/STD)</td>\n",
              "      <td>Female</td>\n",
              "      <td>0-14</td>\n",
              "      <td>0</td>\n",
              "    </tr>\n",
              "    <tr>\n",
              "      <th>1</th>\n",
              "      <td>A &amp; N Islands</td>\n",
              "      <td>2001</td>\n",
              "      <td>Causes</td>\n",
              "      <td>Bankruptcy or Sudden change in Economic</td>\n",
              "      <td>Female</td>\n",
              "      <td>0-14</td>\n",
              "      <td>0</td>\n",
              "    </tr>\n",
              "    <tr>\n",
              "      <th>2</th>\n",
              "      <td>A &amp; N Islands</td>\n",
              "      <td>2001</td>\n",
              "      <td>Causes</td>\n",
              "      <td>Cancellation/Non-Settlement of Marriage</td>\n",
              "      <td>Female</td>\n",
              "      <td>0-14</td>\n",
              "      <td>0</td>\n",
              "    </tr>\n",
              "    <tr>\n",
              "      <th>3</th>\n",
              "      <td>A &amp; N Islands</td>\n",
              "      <td>2001</td>\n",
              "      <td>Causes</td>\n",
              "      <td>Physical Abuse (Rape/Incest Etc.)</td>\n",
              "      <td>Female</td>\n",
              "      <td>0-14</td>\n",
              "      <td>0</td>\n",
              "    </tr>\n",
              "    <tr>\n",
              "      <th>4</th>\n",
              "      <td>A &amp; N Islands</td>\n",
              "      <td>2001</td>\n",
              "      <td>Causes</td>\n",
              "      <td>Dowry Dispute</td>\n",
              "      <td>Female</td>\n",
              "      <td>0-14</td>\n",
              "      <td>0</td>\n",
              "    </tr>\n",
              "  </tbody>\n",
              "</table>\n",
              "</div>\n",
              "      <button class=\"colab-df-convert\" onclick=\"convertToInteractive('df-de2033d2-9ef0-4326-ba23-db8aea8123b5')\"\n",
              "              title=\"Convert this dataframe to an interactive table.\"\n",
              "              style=\"display:none;\">\n",
              "        \n",
              "  <svg xmlns=\"http://www.w3.org/2000/svg\" height=\"24px\"viewBox=\"0 0 24 24\"\n",
              "       width=\"24px\">\n",
              "    <path d=\"M0 0h24v24H0V0z\" fill=\"none\"/>\n",
              "    <path d=\"M18.56 5.44l.94 2.06.94-2.06 2.06-.94-2.06-.94-.94-2.06-.94 2.06-2.06.94zm-11 1L8.5 8.5l.94-2.06 2.06-.94-2.06-.94L8.5 2.5l-.94 2.06-2.06.94zm10 10l.94 2.06.94-2.06 2.06-.94-2.06-.94-.94-2.06-.94 2.06-2.06.94z\"/><path d=\"M17.41 7.96l-1.37-1.37c-.4-.4-.92-.59-1.43-.59-.52 0-1.04.2-1.43.59L10.3 9.45l-7.72 7.72c-.78.78-.78 2.05 0 2.83L4 21.41c.39.39.9.59 1.41.59.51 0 1.02-.2 1.41-.59l7.78-7.78 2.81-2.81c.8-.78.8-2.07 0-2.86zM5.41 20L4 18.59l7.72-7.72 1.47 1.35L5.41 20z\"/>\n",
              "  </svg>\n",
              "      </button>\n",
              "      \n",
              "  <style>\n",
              "    .colab-df-container {\n",
              "      display:flex;\n",
              "      flex-wrap:wrap;\n",
              "      gap: 12px;\n",
              "    }\n",
              "\n",
              "    .colab-df-convert {\n",
              "      background-color: #E8F0FE;\n",
              "      border: none;\n",
              "      border-radius: 50%;\n",
              "      cursor: pointer;\n",
              "      display: none;\n",
              "      fill: #1967D2;\n",
              "      height: 32px;\n",
              "      padding: 0 0 0 0;\n",
              "      width: 32px;\n",
              "    }\n",
              "\n",
              "    .colab-df-convert:hover {\n",
              "      background-color: #E2EBFA;\n",
              "      box-shadow: 0px 1px 2px rgba(60, 64, 67, 0.3), 0px 1px 3px 1px rgba(60, 64, 67, 0.15);\n",
              "      fill: #174EA6;\n",
              "    }\n",
              "\n",
              "    [theme=dark] .colab-df-convert {\n",
              "      background-color: #3B4455;\n",
              "      fill: #D2E3FC;\n",
              "    }\n",
              "\n",
              "    [theme=dark] .colab-df-convert:hover {\n",
              "      background-color: #434B5C;\n",
              "      box-shadow: 0px 1px 3px 1px rgba(0, 0, 0, 0.15);\n",
              "      filter: drop-shadow(0px 1px 2px rgba(0, 0, 0, 0.3));\n",
              "      fill: #FFFFFF;\n",
              "    }\n",
              "  </style>\n",
              "\n",
              "      <script>\n",
              "        const buttonEl =\n",
              "          document.querySelector('#df-de2033d2-9ef0-4326-ba23-db8aea8123b5 button.colab-df-convert');\n",
              "        buttonEl.style.display =\n",
              "          google.colab.kernel.accessAllowed ? 'block' : 'none';\n",
              "\n",
              "        async function convertToInteractive(key) {\n",
              "          const element = document.querySelector('#df-de2033d2-9ef0-4326-ba23-db8aea8123b5');\n",
              "          const dataTable =\n",
              "            await google.colab.kernel.invokeFunction('convertToInteractive',\n",
              "                                                     [key], {});\n",
              "          if (!dataTable) return;\n",
              "\n",
              "          const docLinkHtml = 'Like what you see? Visit the ' +\n",
              "            '<a target=\"_blank\" href=https://colab.research.google.com/notebooks/data_table.ipynb>data table notebook</a>'\n",
              "            + ' to learn more about interactive tables.';\n",
              "          element.innerHTML = '';\n",
              "          dataTable['output_type'] = 'display_data';\n",
              "          await google.colab.output.renderOutput(dataTable, element);\n",
              "          const docLink = document.createElement('div');\n",
              "          docLink.innerHTML = docLinkHtml;\n",
              "          element.appendChild(docLink);\n",
              "        }\n",
              "      </script>\n",
              "    </div>\n",
              "  </div>\n",
              "  "
            ],
            "text/plain": [
              "           State  Year Type_code  ...  Gender Age_group Total\n",
              "0  A & N Islands  2001    Causes  ...  Female      0-14     0\n",
              "1  A & N Islands  2001    Causes  ...  Female      0-14     0\n",
              "2  A & N Islands  2001    Causes  ...  Female      0-14     0\n",
              "3  A & N Islands  2001    Causes  ...  Female      0-14     0\n",
              "4  A & N Islands  2001    Causes  ...  Female      0-14     0\n",
              "\n",
              "[5 rows x 7 columns]"
            ]
          },
          "metadata": {},
          "execution_count": 18
        }
      ]
    },
    {
      "cell_type": "markdown",
      "source": [
        "####  Decide on the Statsitical Test\n",
        "\n",
        "We will be using the Two Sample Z-Test Proportion test here. \n"
      ],
      "metadata": {
        "id": "ZnsQND11SSWx"
      }
    },
    {
      "cell_type": "code",
      "source": [
        "sample_female_proportion = df['Gender'].value_counts()['Female']/len(df)"
      ],
      "metadata": {
        "id": "BS524NxASTyY"
      },
      "execution_count": 19,
      "outputs": []
    },
    {
      "cell_type": "code",
      "source": [
        "sigma = np.sqrt((proportion_female*proportion_male)/len(df))"
      ],
      "metadata": {
        "id": "VuPnAqGbUGW-"
      },
      "execution_count": 20,
      "outputs": []
    },
    {
      "cell_type": "code",
      "source": [
        "z_val=(sample_female_proportion-proportion_female)/sigma"
      ],
      "metadata": {
        "id": "0j82WeuXUnXG"
      },
      "execution_count": 21,
      "outputs": []
    },
    {
      "cell_type": "code",
      "source": [
        "z_val"
      ],
      "metadata": {
        "colab": {
          "base_uri": "https://localhost:8080/"
        },
        "id": "FW-sJm9fUvk0",
        "outputId": "dd922cfc-4b05-4848-c6aa-5f2f3b129e88"
      },
      "execution_count": 22,
      "outputs": [
        {
          "output_type": "execute_result",
          "data": {
            "text/plain": [
              "14.589546580591277"
            ]
          },
          "metadata": {},
          "execution_count": 22
        }
      ]
    },
    {
      "cell_type": "code",
      "source": [
        "p_val=(1-stats.norm.cdf(np.abs(z_val)))*2"
      ],
      "metadata": {
        "id": "z_mJ_U6VUweu"
      },
      "execution_count": 24,
      "outputs": []
    },
    {
      "cell_type": "code",
      "source": [
        "p_val"
      ],
      "metadata": {
        "colab": {
          "base_uri": "https://localhost:8080/"
        },
        "id": "BjBMURyBU17c",
        "outputId": "bad01d5c-1c7f-4770-e3b6-5fd1f77e7ae9"
      },
      "execution_count": 23,
      "outputs": [
        {
          "output_type": "execute_result",
          "data": {
            "text/plain": [
              "5.949463144361289e-12"
            ]
          },
          "metadata": {},
          "execution_count": 23
        }
      ]
    },
    {
      "cell_type": "markdown",
      "source": [
        "Depression Rate is not same for men and women"
      ],
      "metadata": {
        "id": "N3zO11K6V0oi"
      }
    },
    {
      "cell_type": "markdown",
      "source": [
        "## Using Standard Libraries"
      ],
      "metadata": {
        "id": "6Z_drZ6OWK-g"
      }
    },
    {
      "cell_type": "code",
      "source": [
        "sm.stats.proportions_ztest(sample_female_proportion,nobs=len(df),value=proportion_female)"
      ],
      "metadata": {
        "colab": {
          "base_uri": "https://localhost:8080/"
        },
        "id": "A9P6URmaWNgT",
        "outputId": "ffc9cf85-19e9-4752-bd12-f7aac17ba9af"
      },
      "execution_count": 25,
      "outputs": [
        {
          "output_type": "execute_result",
          "data": {
            "text/plain": [
              "(-162838.33779698968, 0.0)"
            ]
          },
          "metadata": {},
          "execution_count": 25
        }
      ]
    },
    {
      "cell_type": "markdown",
      "source": [
        "# Analyzing Literacy Rates\n",
        "\n",
        "Two Sample test"
      ],
      "metadata": {
        "id": "TWWq5GS8X_r5"
      }
    },
    {
      "cell_type": "code",
      "source": [
        "df=pd.read_csv(\"cities.csv\")\n",
        "df.head()"
      ],
      "metadata": {
        "colab": {
          "base_uri": "https://localhost:8080/",
          "height": 322
        },
        "id": "C6t3woUFXYOc",
        "outputId": "3fe24c57-c3dc-4093-90f2-d6994c7dffae"
      },
      "execution_count": 26,
      "outputs": [
        {
          "output_type": "execute_result",
          "data": {
            "text/html": [
              "\n",
              "  <div id=\"df-fe2a80e9-7136-4b2a-87a0-c2269bd65076\">\n",
              "    <div class=\"colab-df-container\">\n",
              "      <div>\n",
              "<style scoped>\n",
              "    .dataframe tbody tr th:only-of-type {\n",
              "        vertical-align: middle;\n",
              "    }\n",
              "\n",
              "    .dataframe tbody tr th {\n",
              "        vertical-align: top;\n",
              "    }\n",
              "\n",
              "    .dataframe thead th {\n",
              "        text-align: right;\n",
              "    }\n",
              "</style>\n",
              "<table border=\"1\" class=\"dataframe\">\n",
              "  <thead>\n",
              "    <tr style=\"text-align: right;\">\n",
              "      <th></th>\n",
              "      <th>name_of_city</th>\n",
              "      <th>state_code</th>\n",
              "      <th>state_name</th>\n",
              "      <th>dist_code</th>\n",
              "      <th>population_total</th>\n",
              "      <th>population_male</th>\n",
              "      <th>population_female</th>\n",
              "      <th>0-6_population_total</th>\n",
              "      <th>0-6_population_male</th>\n",
              "      <th>0-6_population_female</th>\n",
              "      <th>literates_total</th>\n",
              "      <th>literates_male</th>\n",
              "      <th>literates_female</th>\n",
              "      <th>sex_ratio</th>\n",
              "      <th>child_sex_ratio</th>\n",
              "      <th>effective_literacy_rate_total</th>\n",
              "      <th>effective_literacy_rate_male</th>\n",
              "      <th>effective_literacy_rate_female</th>\n",
              "      <th>location</th>\n",
              "      <th>total_graduates</th>\n",
              "      <th>male_graduates</th>\n",
              "      <th>female_graduates</th>\n",
              "    </tr>\n",
              "  </thead>\n",
              "  <tbody>\n",
              "    <tr>\n",
              "      <th>0</th>\n",
              "      <td>Abohar</td>\n",
              "      <td>3</td>\n",
              "      <td>PUNJAB</td>\n",
              "      <td>9</td>\n",
              "      <td>145238</td>\n",
              "      <td>76840</td>\n",
              "      <td>68398</td>\n",
              "      <td>15870</td>\n",
              "      <td>8587</td>\n",
              "      <td>7283</td>\n",
              "      <td>103319</td>\n",
              "      <td>58347</td>\n",
              "      <td>44972</td>\n",
              "      <td>890</td>\n",
              "      <td>848</td>\n",
              "      <td>79.86</td>\n",
              "      <td>85.49</td>\n",
              "      <td>73.59</td>\n",
              "      <td>30.1452928,74.1993043</td>\n",
              "      <td>16287</td>\n",
              "      <td>8612</td>\n",
              "      <td>7675</td>\n",
              "    </tr>\n",
              "    <tr>\n",
              "      <th>1</th>\n",
              "      <td>Achalpur</td>\n",
              "      <td>27</td>\n",
              "      <td>MAHARASHTRA</td>\n",
              "      <td>7</td>\n",
              "      <td>112293</td>\n",
              "      <td>58256</td>\n",
              "      <td>54037</td>\n",
              "      <td>11810</td>\n",
              "      <td>6186</td>\n",
              "      <td>5624</td>\n",
              "      <td>92433</td>\n",
              "      <td>49347</td>\n",
              "      <td>43086</td>\n",
              "      <td>928</td>\n",
              "      <td>909</td>\n",
              "      <td>91.99</td>\n",
              "      <td>94.77</td>\n",
              "      <td>89.00</td>\n",
              "      <td>21.257584,77.5086754</td>\n",
              "      <td>8863</td>\n",
              "      <td>5269</td>\n",
              "      <td>3594</td>\n",
              "    </tr>\n",
              "    <tr>\n",
              "      <th>2</th>\n",
              "      <td>Adilabad</td>\n",
              "      <td>28</td>\n",
              "      <td>ANDHRA PRADESH</td>\n",
              "      <td>1</td>\n",
              "      <td>117388</td>\n",
              "      <td>59232</td>\n",
              "      <td>58156</td>\n",
              "      <td>13103</td>\n",
              "      <td>6731</td>\n",
              "      <td>6372</td>\n",
              "      <td>83955</td>\n",
              "      <td>46295</td>\n",
              "      <td>37660</td>\n",
              "      <td>982</td>\n",
              "      <td>947</td>\n",
              "      <td>80.51</td>\n",
              "      <td>88.18</td>\n",
              "      <td>72.73</td>\n",
              "      <td>19.0809075,79.560344</td>\n",
              "      <td>10565</td>\n",
              "      <td>6797</td>\n",
              "      <td>3768</td>\n",
              "    </tr>\n",
              "    <tr>\n",
              "      <th>3</th>\n",
              "      <td>Adityapur</td>\n",
              "      <td>20</td>\n",
              "      <td>JHARKHAND</td>\n",
              "      <td>24</td>\n",
              "      <td>173988</td>\n",
              "      <td>91495</td>\n",
              "      <td>82493</td>\n",
              "      <td>23042</td>\n",
              "      <td>12063</td>\n",
              "      <td>10979</td>\n",
              "      <td>125985</td>\n",
              "      <td>71470</td>\n",
              "      <td>54515</td>\n",
              "      <td>902</td>\n",
              "      <td>910</td>\n",
              "      <td>83.46</td>\n",
              "      <td>89.98</td>\n",
              "      <td>76.23</td>\n",
              "      <td>22.7834741,86.1576889</td>\n",
              "      <td>19225</td>\n",
              "      <td>12189</td>\n",
              "      <td>7036</td>\n",
              "    </tr>\n",
              "    <tr>\n",
              "      <th>4</th>\n",
              "      <td>Adoni</td>\n",
              "      <td>28</td>\n",
              "      <td>ANDHRA PRADESH</td>\n",
              "      <td>21</td>\n",
              "      <td>166537</td>\n",
              "      <td>82743</td>\n",
              "      <td>83794</td>\n",
              "      <td>18406</td>\n",
              "      <td>9355</td>\n",
              "      <td>9051</td>\n",
              "      <td>101292</td>\n",
              "      <td>56203</td>\n",
              "      <td>45089</td>\n",
              "      <td>1013</td>\n",
              "      <td>968</td>\n",
              "      <td>68.38</td>\n",
              "      <td>76.58</td>\n",
              "      <td>60.33</td>\n",
              "      <td>15.6322227,77.2728368</td>\n",
              "      <td>11902</td>\n",
              "      <td>7871</td>\n",
              "      <td>4031</td>\n",
              "    </tr>\n",
              "  </tbody>\n",
              "</table>\n",
              "</div>\n",
              "      <button class=\"colab-df-convert\" onclick=\"convertToInteractive('df-fe2a80e9-7136-4b2a-87a0-c2269bd65076')\"\n",
              "              title=\"Convert this dataframe to an interactive table.\"\n",
              "              style=\"display:none;\">\n",
              "        \n",
              "  <svg xmlns=\"http://www.w3.org/2000/svg\" height=\"24px\"viewBox=\"0 0 24 24\"\n",
              "       width=\"24px\">\n",
              "    <path d=\"M0 0h24v24H0V0z\" fill=\"none\"/>\n",
              "    <path d=\"M18.56 5.44l.94 2.06.94-2.06 2.06-.94-2.06-.94-.94-2.06-.94 2.06-2.06.94zm-11 1L8.5 8.5l.94-2.06 2.06-.94-2.06-.94L8.5 2.5l-.94 2.06-2.06.94zm10 10l.94 2.06.94-2.06 2.06-.94-2.06-.94-.94-2.06-.94 2.06-2.06.94z\"/><path d=\"M17.41 7.96l-1.37-1.37c-.4-.4-.92-.59-1.43-.59-.52 0-1.04.2-1.43.59L10.3 9.45l-7.72 7.72c-.78.78-.78 2.05 0 2.83L4 21.41c.39.39.9.59 1.41.59.51 0 1.02-.2 1.41-.59l7.78-7.78 2.81-2.81c.8-.78.8-2.07 0-2.86zM5.41 20L4 18.59l7.72-7.72 1.47 1.35L5.41 20z\"/>\n",
              "  </svg>\n",
              "      </button>\n",
              "      \n",
              "  <style>\n",
              "    .colab-df-container {\n",
              "      display:flex;\n",
              "      flex-wrap:wrap;\n",
              "      gap: 12px;\n",
              "    }\n",
              "\n",
              "    .colab-df-convert {\n",
              "      background-color: #E8F0FE;\n",
              "      border: none;\n",
              "      border-radius: 50%;\n",
              "      cursor: pointer;\n",
              "      display: none;\n",
              "      fill: #1967D2;\n",
              "      height: 32px;\n",
              "      padding: 0 0 0 0;\n",
              "      width: 32px;\n",
              "    }\n",
              "\n",
              "    .colab-df-convert:hover {\n",
              "      background-color: #E2EBFA;\n",
              "      box-shadow: 0px 1px 2px rgba(60, 64, 67, 0.3), 0px 1px 3px 1px rgba(60, 64, 67, 0.15);\n",
              "      fill: #174EA6;\n",
              "    }\n",
              "\n",
              "    [theme=dark] .colab-df-convert {\n",
              "      background-color: #3B4455;\n",
              "      fill: #D2E3FC;\n",
              "    }\n",
              "\n",
              "    [theme=dark] .colab-df-convert:hover {\n",
              "      background-color: #434B5C;\n",
              "      box-shadow: 0px 1px 3px 1px rgba(0, 0, 0, 0.15);\n",
              "      filter: drop-shadow(0px 1px 2px rgba(0, 0, 0, 0.3));\n",
              "      fill: #FFFFFF;\n",
              "    }\n",
              "  </style>\n",
              "\n",
              "      <script>\n",
              "        const buttonEl =\n",
              "          document.querySelector('#df-fe2a80e9-7136-4b2a-87a0-c2269bd65076 button.colab-df-convert');\n",
              "        buttonEl.style.display =\n",
              "          google.colab.kernel.accessAllowed ? 'block' : 'none';\n",
              "\n",
              "        async function convertToInteractive(key) {\n",
              "          const element = document.querySelector('#df-fe2a80e9-7136-4b2a-87a0-c2269bd65076');\n",
              "          const dataTable =\n",
              "            await google.colab.kernel.invokeFunction('convertToInteractive',\n",
              "                                                     [key], {});\n",
              "          if (!dataTable) return;\n",
              "\n",
              "          const docLinkHtml = 'Like what you see? Visit the ' +\n",
              "            '<a target=\"_blank\" href=https://colab.research.google.com/notebooks/data_table.ipynb>data table notebook</a>'\n",
              "            + ' to learn more about interactive tables.';\n",
              "          element.innerHTML = '';\n",
              "          dataTable['output_type'] = 'display_data';\n",
              "          await google.colab.output.renderOutput(dataTable, element);\n",
              "          const docLink = document.createElement('div');\n",
              "          docLink.innerHTML = docLinkHtml;\n",
              "          element.appendChild(docLink);\n",
              "        }\n",
              "      </script>\n",
              "    </div>\n",
              "  </div>\n",
              "  "
            ],
            "text/plain": [
              "  name_of_city  state_code  ... male_graduates  female_graduates\n",
              "0      Abohar            3  ...           8612              7675\n",
              "1    Achalpur           27  ...           5269              3594\n",
              "2    Adilabad           28  ...           6797              3768\n",
              "3   Adityapur           20  ...          12189              7036\n",
              "4       Adoni           28  ...           7871              4031\n",
              "\n",
              "[5 rows x 22 columns]"
            ]
          },
          "metadata": {},
          "execution_count": 26
        }
      ]
    },
    {
      "cell_type": "code",
      "source": [
        "punjab = df[df['state_name'] == 'PUNJAB']['effective_literacy_rate_total'].dropna()\n",
        "delhi = df[df['state_name'] == 'NCT OF DELHI']['effective_literacy_rate_total'].dropna()"
      ],
      "metadata": {
        "id": "HdL6O0GCX_93"
      },
      "execution_count": 27,
      "outputs": []
    },
    {
      "cell_type": "code",
      "source": [
        "punjab_mean = punjab.mean()\n",
        "punjab_std = punjab.std()\n",
        "\n",
        "punjab_mean, punjab_std"
      ],
      "metadata": {
        "colab": {
          "base_uri": "https://localhost:8080/"
        },
        "id": "tp84VukkYTEr",
        "outputId": "5f7d6789-63a7-4c28-e349-fc361b609ac2"
      },
      "execution_count": 28,
      "outputs": [
        {
          "output_type": "execute_result",
          "data": {
            "text/plain": [
              "(83.44062499999998, 5.381935796408821)"
            ]
          },
          "metadata": {},
          "execution_count": 28
        }
      ]
    },
    {
      "cell_type": "code",
      "source": [
        "delhi_mean = delhi.mean()\n",
        "delhi_std = delhi.std()\n",
        "\n",
        "delhi_mean, delhi_std"
      ],
      "metadata": {
        "colab": {
          "base_uri": "https://localhost:8080/"
        },
        "id": "61ZoucnfYd-Z",
        "outputId": "6f7dce29-f7be-413b-ae79-849d929f0a43"
      },
      "execution_count": 29,
      "outputs": [
        {
          "output_type": "execute_result",
          "data": {
            "text/plain": [
              "(83.658, 4.6569551671206195)"
            ]
          },
          "metadata": {},
          "execution_count": 29
        }
      ]
    },
    {
      "cell_type": "markdown",
      "source": [
        "From the above calculations, it can be seen that the mean and the standard deviations of Punjab and Delhi literacy rates differ slightly. The next step is to determine if this difference is a statistically significant one."
      ],
      "metadata": {
        "id": "eIZzaYLhYiD4"
      }
    },
    {
      "cell_type": "markdown",
      "source": [
        "For hypothesis testing, the following are defined:\n",
        "\n",
        "* **Null Hypothesis:** The true mean literacy rate for Punjab and Delhi are the same.\n",
        "* **Alternate Hypothesis:** The true mean literacy rate for Punjab and Delhi are not the same.\n",
        "\n",
        "The threshold value of $\\alpha$ is assumed to be 0.05.\n",
        "Assuming Null Hypothesis is true."
      ],
      "metadata": {
        "id": "U0wn-KUsYjqM"
      }
    },
    {
      "cell_type": "code",
      "source": [
        "mean_diff=punjab_mean-delhi_mean\n",
        "sigma=np.sqrt((delhi_std**2)/len(delhi)  + (punjab_std**2)/len(punjab))\n",
        "mean_diff, sigma"
      ],
      "metadata": {
        "colab": {
          "base_uri": "https://localhost:8080/"
        },
        "id": "RDjNHPeWYfQr",
        "outputId": "27ebe429-c768-45be-80b7-d3147482be65"
      },
      "execution_count": 30,
      "outputs": [
        {
          "output_type": "execute_result",
          "data": {
            "text/plain": [
              "(-0.2173750000000183, 1.8044784525904138)"
            ]
          },
          "metadata": {},
          "execution_count": 30
        }
      ]
    },
    {
      "cell_type": "code",
      "source": [
        "z = (mean_diff) / sigma\n",
        "z"
      ],
      "metadata": {
        "colab": {
          "base_uri": "https://localhost:8080/"
        },
        "id": "3NQDSY4oYiV3",
        "outputId": "ad802a7e-9a64-465f-cfc2-6d6063d2efb5"
      },
      "execution_count": 31,
      "outputs": [
        {
          "output_type": "execute_result",
          "data": {
            "text/plain": [
              "-0.12046417051307332"
            ]
          },
          "metadata": {},
          "execution_count": 31
        }
      ]
    },
    {
      "cell_type": "code",
      "source": [
        "p = (1-stats.norm.cdf(z))*2\n",
        "p"
      ],
      "metadata": {
        "colab": {
          "base_uri": "https://localhost:8080/"
        },
        "id": "xWVf6gLCY-Td",
        "outputId": "0b0e91fc-f0c3-4889-a372-7d17b4329cab"
      },
      "execution_count": 32,
      "outputs": [
        {
          "output_type": "execute_result",
          "data": {
            "text/plain": [
              "1.095884539297947"
            ]
          },
          "metadata": {},
          "execution_count": 32
        }
      ]
    },
    {
      "cell_type": "markdown",
      "source": [
        "The value of p obtained here is much higher than the significance level $\\alpha$. Therefore, we cannot reject the null hypothesis. It stands.\n",
        "\n",
        "**The true mean literacy rate for Punjab and Delhi are the same.**"
      ],
      "metadata": {
        "id": "NBHWS2XMZJ0e"
      }
    },
    {
      "cell_type": "markdown",
      "source": [
        "Since we are dealing with sample sizes less than 30, using the t-statistic will be more appropriate. To use student's t though, we need to calculate the degree of freedom. This is done as follows:"
      ],
      "metadata": {
        "id": "0u8_wSR_ZOK6"
      }
    },
    {
      "cell_type": "code",
      "source": [
        "deg = (((delhi_std**2)/len(delhi)  + (punjab_std**2)/len(punjab)) ** 2) / ((((delhi_std**2)/len(delhi))**2)/(len(delhi)-1)  + (((punjab_std**2)/len(punjab))**2)/(len(punjab) - 1))\n",
        "deg"
      ],
      "metadata": {
        "colab": {
          "base_uri": "https://localhost:8080/"
        },
        "id": "NmPkDxkaZEIq",
        "outputId": "6ca43241-4088-4dfc-b5bd-d311a70c1a5a"
      },
      "execution_count": 33,
      "outputs": [
        {
          "output_type": "execute_result",
          "data": {
            "text/plain": [
              "28.82681788840003"
            ]
          },
          "metadata": {},
          "execution_count": 33
        }
      ]
    },
    {
      "cell_type": "code",
      "source": [
        "z = (mean_diff ) / sigma\n",
        "z"
      ],
      "metadata": {
        "colab": {
          "base_uri": "https://localhost:8080/"
        },
        "id": "hbaCIMx3ZHPQ",
        "outputId": "d5671fca-4322-4558-a66c-8e5b211df451"
      },
      "execution_count": 34,
      "outputs": [
        {
          "output_type": "execute_result",
          "data": {
            "text/plain": [
              "-0.12046417051307332"
            ]
          },
          "metadata": {},
          "execution_count": 34
        }
      ]
    },
    {
      "cell_type": "code",
      "source": [
        "p = (1-stats.t.cdf(z, deg))*2\n",
        "p"
      ],
      "metadata": {
        "colab": {
          "base_uri": "https://localhost:8080/"
        },
        "id": "dxkK1KoJZfLB",
        "outputId": "b61672af-ed9d-4475-e26d-1331d9d0ab42"
      },
      "execution_count": 35,
      "outputs": [
        {
          "output_type": "execute_result",
          "data": {
            "text/plain": [
              "1.0950488195491228"
            ]
          },
          "metadata": {},
          "execution_count": 35
        }
      ]
    },
    {
      "cell_type": "markdown",
      "source": [
        "#Using Standard Libraries"
      ],
      "metadata": {
        "id": "m3ElwFY9aCsj"
      }
    },
    {
      "cell_type": "code",
      "source": [
        "sm.stats.ztest(punjab.dropna(), delhi.dropna(),alternative='two-sided')"
      ],
      "metadata": {
        "colab": {
          "base_uri": "https://localhost:8080/"
        },
        "id": "l5z13v25Zigf",
        "outputId": "05383ae4-c839-4d98-f21f-c035217c6e5c"
      },
      "execution_count": 36,
      "outputs": [
        {
          "output_type": "execute_result",
          "data": {
            "text/plain": [
              "(-0.1198880354206678, 0.9045718424630748)"
            ]
          },
          "metadata": {},
          "execution_count": 36
        }
      ]
    },
    {
      "cell_type": "code",
      "source": [
        "plt.figure(figsize=(7,4))\n",
        "plt.title(\"Female BMI histogram\",fontsize=16)\n",
        "plt.hist(punjab.dropna(),edgecolor='k',color='pink',bins=25)\n",
        "plt.show()\n",
        "\n",
        "plt.figure(figsize=(7,4))\n",
        "plt.title(\"Male BMI histogram\",fontsize=16)\n",
        "plt.hist(delhi.dropna(),edgecolor='k',color='blue',bins=25)\n",
        "plt.show()"
      ],
      "metadata": {
        "colab": {
          "base_uri": "https://localhost:8080/",
          "height": 548
        },
        "id": "k1jVZVH0ZtBP",
        "outputId": "889b4306-9334-45f6-a991-2660f552b137"
      },
      "execution_count": 37,
      "outputs": [
        {
          "output_type": "display_data",
          "data": {
            "image/png": "[encoded data removed]",
            "text/plain": [
              "<Figure size 504x288 with 1 Axes>"
            ]
          },
          "metadata": {
            "needs_background": "light"
          }
        },
        {
          "output_type": "display_data",
          "data": {
            "image/png": "[encoded data removed]",
            "text/plain": [
              "<Figure size 504x288 with 1 Axes>"
            ]
          },
          "metadata": {
            "needs_background": "light"
          }
        }
      ]
    },
    {
      "cell_type": "code",
      "source": [
        ""
      ],
      "metadata": {
        "id": "MZzfWrM5aGxN"
      },
      "execution_count": 37,
      "outputs": []
    }
  ]
}