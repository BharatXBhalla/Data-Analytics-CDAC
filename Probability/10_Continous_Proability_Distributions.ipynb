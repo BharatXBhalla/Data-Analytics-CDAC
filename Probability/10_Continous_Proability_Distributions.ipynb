{
  "nbformat": 4,
  "nbformat_minor": 0,
  "metadata": {
    "colab": {
      "name": "10_Continous_Proability_Distributions.ipynb",
      "provenance": [],
      "collapsed_sections": [],
      "authorship_tag": "ABX9TyPDMPu2f0ahe0YJdzW5ObP5",
      "include_colab_link": true
    },
    "kernelspec": {
      "name": "python3",
      "display_name": "Python 3"
    },
    "language_info": {
      "name": "python"
    }
  },
  "cells": [
    {
      "cell_type": "markdown",
      "metadata": {
        "id": "view-in-github",
        "colab_type": "text"
      },
      "source": [
        "<a href=\"https://colab.research.google.com/github/BharatXBhalla/Data-Analytics-CDAC/blob/main/Probability/10_Continous_Proability_Distributions.ipynb\" target=\"_parent\"><img src=\"https://colab.research.google.com/assets/colab-badge.svg\" alt=\"Open In Colab\"/></a>"
      ]
    },
    {
      "cell_type": "markdown",
      "source": [
        "## Continous Proability Distributions"
      ],
      "metadata": {
        "id": "fQDztsEtZMNx"
      }
    },
    {
      "cell_type": "markdown",
      "metadata": {
        "id": "dExyJfI54tdg"
      },
      "source": [
        "Uniform Distribution\n",
        "\n",
        " Suppose the amount of time it takes to assemble a plastic module ranges from 27 to\n",
        "39 seconds and that assembly times are uniformly distributed. Describe the distribution.\n",
        "What is the probability that a given assembly will take between 30 and 35 seconds?"
      ]
    },
    {
      "cell_type": "code",
      "execution_count": 2,
      "metadata": {
        "colab": {
          "base_uri": "https://localhost:8080/"
        },
        "id": "Nkmgr9wXY9JK",
        "outputId": "6b48fa47-23d0-4524-eeea-b2dae477a0a8"
      },
      "outputs": [
        {
          "output_type": "execute_result",
          "data": {
            "text/plain": [
              "33.0"
            ]
          },
          "metadata": {},
          "execution_count": 2
        }
      ],
      "source": [
        "from scipy.stats import uniform\n",
        "uniform.mean(loc=27,scale=(39-27))"
      ]
    },
    {
      "cell_type": "code",
      "source": [
        "uniform.cdf(35,loc=27,scale=(39-27)) - uniform.cdf(30,loc=27,scale=(39-27))"
      ],
      "metadata": {
        "colab": {
          "base_uri": "https://localhost:8080/"
        },
        "id": "gdGfxng6ZReB",
        "outputId": "23b50742-615a-4d2a-dabd-79a1ce8f0076"
      },
      "execution_count": 3,
      "outputs": [
        {
          "output_type": "execute_result",
          "data": {
            "text/plain": [
              "0.41666666666666663"
            ]
          },
          "metadata": {},
          "execution_count": 3
        }
      ]
    },
    {
      "cell_type": "markdown",
      "source": [
        "According to the National Association of Insurance Commissioners, the average\n",
        "annual cost for automobile insurance in the United States in a recent year was $691.\n",
        "\n",
        "Suppose automobile insurance costs are uniformly distributed in the United States\n",
        "\n",
        "with a range of from $$ 200 to  $1,182. What is the standard deviation of this uniform distribution? "
      ],
      "metadata": {
        "id": "vBwK2_QZZ8XT"
      }
    },
    {
      "cell_type": "code",
      "source": [
        "from scipy.stats import uniform"
      ],
      "metadata": {
        "id": "M0W0VeUOZ2QA"
      },
      "execution_count": 4,
      "outputs": []
    },
    {
      "cell_type": "code",
      "source": [
        "uniform.std(loc=200,scale=(1182-200))"
      ],
      "metadata": {
        "colab": {
          "base_uri": "https://localhost:8080/"
        },
        "id": "-RNQR-UFZ8w9",
        "outputId": "020d9352-8e28-4c1b-da69-f7b5ad1c236d"
      },
      "execution_count": 6,
      "outputs": [
        {
          "output_type": "execute_result",
          "data": {
            "text/plain": [
              "283.4789821721062"
            ]
          },
          "metadata": {},
          "execution_count": 6
        }
      ]
    },
    {
      "cell_type": "markdown",
      "source": [
        "### Normal Distribution"
      ],
      "metadata": {
        "id": "opz67JASacrq"
      }
    },
    {
      "cell_type": "code",
      "source": [
        "from scipy.stats import norm"
      ],
      "metadata": {
        "id": "erEWE7ZHaWs1"
      },
      "execution_count": 7,
      "outputs": []
    },
    {
      "cell_type": "code",
      "source": [
        "m,s=65.5,2.5"
      ],
      "metadata": {
        "id": "xpjxmDbdadcr"
      },
      "execution_count": 9,
      "outputs": []
    },
    {
      "cell_type": "code",
      "source": [
        "norm.cdf(68,m,s) # P(x<68)"
      ],
      "metadata": {
        "colab": {
          "base_uri": "https://localhost:8080/"
        },
        "id": "qoQ6nPxLanlp",
        "outputId": "46fdfb6a-ed76-43cf-e942-d621c71d43ef"
      },
      "execution_count": 10,
      "outputs": [
        {
          "output_type": "execute_result",
          "data": {
            "text/plain": [
              "0.8413447460685429"
            ]
          },
          "metadata": {},
          "execution_count": 10
        }
      ]
    },
    {
      "cell_type": "code",
      "source": [
        "1-norm.cdf(68,m,s) #P(x>68)"
      ],
      "metadata": {
        "colab": {
          "base_uri": "https://localhost:8080/"
        },
        "id": "bsSfrU_8axVe",
        "outputId": "384d93a1-cc9c-479a-92a0-a7a1a944b987"
      },
      "execution_count": 11,
      "outputs": [
        {
          "output_type": "execute_result",
          "data": {
            "text/plain": [
              "0.15865525393145707"
            ]
          },
          "metadata": {},
          "execution_count": 11
        }
      ]
    },
    {
      "cell_type": "code",
      "source": [
        "norm.cdf(68,m,s)-(norm.cdf(63,m,s))"
      ],
      "metadata": {
        "colab": {
          "base_uri": "https://localhost:8080/"
        },
        "id": "F3pK_e0Ra3Dy",
        "outputId": "3e496b57-61f8-4bee-f4c6-eac2072049a1"
      },
      "execution_count": 12,
      "outputs": [
        {
          "output_type": "execute_result",
          "data": {
            "text/plain": [
              "0.6826894921370859"
            ]
          },
          "metadata": {},
          "execution_count": 12
        }
      ]
    },
    {
      "cell_type": "markdown",
      "source": [
        "What is the probability of obtaining a score greater than 700 on a GMAT test that has\n",
        "a mean of 494 and a standard deviation of 100? Assume GMAT scores are normally\n",
        "distributed."
      ],
      "metadata": {
        "id": "Z6o0dFAda-di"
      }
    },
    {
      "cell_type": "code",
      "source": [
        "1-norm.cdf(700,494,100)"
      ],
      "metadata": {
        "colab": {
          "base_uri": "https://localhost:8080/"
        },
        "id": "fMvDg9B_a7oF",
        "outputId": "03022965-f122-4479-8a95-5ba9e37e6f82"
      },
      "execution_count": 13,
      "outputs": [
        {
          "output_type": "execute_result",
          "data": {
            "text/plain": [
              "0.019699270409376912"
            ]
          },
          "metadata": {},
          "execution_count": 13
        }
      ]
    },
    {
      "cell_type": "markdown",
      "source": [
        "For the same GMAT examination, what is the probability of randomly drawing a\n",
        "score that is 550 or less?"
      ],
      "metadata": {
        "id": "Rd4Ei3_DbWrK"
      }
    },
    {
      "cell_type": "code",
      "source": [
        "print(norm.cdf(550,494,100))"
      ],
      "metadata": {
        "colab": {
          "base_uri": "https://localhost:8080/"
        },
        "id": "g_Jrby--a-_v",
        "outputId": "1633a8be-8fa2-460a-ed9d-e2d73fbfe1e5"
      },
      "execution_count": 14,
      "outputs": [
        {
          "output_type": "stream",
          "name": "stdout",
          "text": [
            "0.712260281150973\n"
          ]
        }
      ]
    },
    {
      "cell_type": "markdown",
      "source": [
        "What is the probability of randomly obtaining a score between 300 and 600 on the\n",
        "GMAT exam?"
      ],
      "metadata": {
        "id": "GVe8BFZ-bgSI"
      }
    },
    {
      "cell_type": "code",
      "source": [
        "norm.cdf(600,494,100)-norm.cdf(300,494,100)"
      ],
      "metadata": {
        "colab": {
          "base_uri": "https://localhost:8080/"
        },
        "id": "KlPXretZbW_s",
        "outputId": "840e88ef-76eb-490b-f995-4d349bc46d11"
      },
      "execution_count": 16,
      "outputs": [
        {
          "output_type": "execute_result",
          "data": {
            "text/plain": [
              "0.8292378553956377"
            ]
          },
          "metadata": {},
          "execution_count": 16
        }
      ]
    },
    {
      "cell_type": "code",
      "source": [
        "norm.ppf(0.999991)"
      ],
      "metadata": {
        "colab": {
          "base_uri": "https://localhost:8080/"
        },
        "id": "UHVpWq08bf02",
        "outputId": "e6de0ba8-35dd-4c4a-edd4-2e0911e90c36"
      },
      "execution_count": 22,
      "outputs": [
        {
          "output_type": "execute_result",
          "data": {
            "text/plain": [
              "4.288356536725567"
            ]
          },
          "metadata": {},
          "execution_count": 22
        }
      ]
    },
    {
      "cell_type": "markdown",
      "source": [
        "Exponential distribution"
      ],
      "metadata": {
        "id": "xyB71_e4cJSc"
      }
    },
    {
      "cell_type": "markdown",
      "source": [
        "A manufacturing firm has been involved in statistical quality control for several years.\n",
        "As part of the production process, parts are randomly selected and tested. From the\n",
        "records of these tests, it has been established that a defective part occurs in a pattern\n",
        "that is Poisson distributed on the average of 1.38 defects every 20 minutes during\n",
        "production runs. Use this information to determine the probability that less than\n",
        "15 minutes will elapse between any two defects."
      ],
      "metadata": {
        "id": "K7htZF_ZdHOK"
      }
    },
    {
      "cell_type": "code",
      "source": [
        "l =  1.38/20 #no of Defects per unit time"
      ],
      "metadata": {
        "id": "qBTxLOy0bgt5"
      },
      "execution_count": 23,
      "outputs": []
    },
    {
      "cell_type": "code",
      "source": [
        "l"
      ],
      "metadata": {
        "colab": {
          "base_uri": "https://localhost:8080/"
        },
        "id": "6xGR4H77cJj9",
        "outputId": "a3d28d3f-107f-4ccc-ec5d-879cff31f812"
      },
      "execution_count": 24,
      "outputs": [
        {
          "output_type": "execute_result",
          "data": {
            "text/plain": [
              "0.06899999999999999"
            ]
          },
          "metadata": {},
          "execution_count": 24
        }
      ]
    },
    {
      "cell_type": "code",
      "source": [
        "from scipy.stats import expon"
      ],
      "metadata": {
        "id": "rxoBA3_1dPnT"
      },
      "execution_count": 25,
      "outputs": []
    },
    {
      "cell_type": "code",
      "source": [
        "expon.cdf(15,0,1/l) #Proability of Defects less than 15 minutes "
      ],
      "metadata": {
        "colab": {
          "base_uri": "https://localhost:8080/"
        },
        "id": "Bm3zx5GBduwH",
        "outputId": "b989dfa7-028e-4e2f-9a12-643fbaf519f1"
      },
      "execution_count": 28,
      "outputs": [
        {
          "output_type": "execute_result",
          "data": {
            "text/plain": [
              "0.6447736190750485"
            ]
          },
          "metadata": {},
          "execution_count": 28
        }
      ]
    },
    {
      "cell_type": "code",
      "source": [
        ""
      ],
      "metadata": {
        "id": "QYA27HiCd527"
      },
      "execution_count": null,
      "outputs": []
    }
  ]
}