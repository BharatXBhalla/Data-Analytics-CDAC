{
  "nbformat": 4,
  "nbformat_minor": 0,
  "metadata": {
    "colab": {
      "name": "09_Discrete Probability Distributions.ipynb",
      "provenance": [],
      "collapsed_sections": [],
      "authorship_tag": "ABX9TyMVVKLcvuf/srfSwSyLFZcN",
      "include_colab_link": true
    },
    "kernelspec": {
      "name": "python3",
      "display_name": "Python 3"
    },
    "language_info": {
      "name": "python"
    }
  },
  "cells": [
    {
      "cell_type": "markdown",
      "metadata": {
        "id": "view-in-github",
        "colab_type": "text"
      },
      "source": [
        "<a href=\"https://colab.research.google.com/github/BharatXBhalla/Data-Analytics-CDAC/blob/main/Probability/09_Discrete_Probability_Distributions.ipynb\" target=\"_parent\"><img src=\"https://colab.research.google.com/assets/colab-badge.svg\" alt=\"Open In Colab\"/></a>"
      ]
    },
    {
      "cell_type": "markdown",
      "source": [
        "## Discrete Distribution "
      ],
      "metadata": {
        "id": "7KeHmRy0whBn"
      }
    },
    {
      "cell_type": "code",
      "execution_count": 1,
      "metadata": {
        "id": "xQ3hLrLNwcmq"
      },
      "outputs": [],
      "source": [
        "import scipy\n",
        "import numpy  as  np\n",
        "from scipy.stats import binom"
      ]
    },
    {
      "cell_type": "markdown",
      "source": [
        "What is the expected value ( mean )for one biased coin flip with 30% probability of sucess?"
      ],
      "metadata": {
        "id": "Kg8r5M89wrrO"
      }
    },
    {
      "cell_type": "code",
      "source": [
        "binom.stats(n=1,p=0.3)"
      ],
      "metadata": {
        "colab": {
          "base_uri": "https://localhost:8080/"
        },
        "id": "J5VC7GrPwkUj",
        "outputId": "4c296bae-8849-4be7-c460-8fd8a32e93c0"
      },
      "execution_count": 2,
      "outputs": [
        {
          "output_type": "execute_result",
          "data": {
            "text/plain": [
              "(array(0.3), array(0.21))"
            ]
          },
          "metadata": {},
          "execution_count": 2
        }
      ]
    },
    {
      "cell_type": "code",
      "source": [
        "binom.std(n=1,p=0.3)"
      ],
      "metadata": {
        "colab": {
          "base_uri": "https://localhost:8080/"
        },
        "id": "v6BmkfqRwud-",
        "outputId": "4107a29a-f929-4e9c-f01d-a91ed2aa2bd6"
      },
      "execution_count": 3,
      "outputs": [
        {
          "output_type": "execute_result",
          "data": {
            "text/plain": [
              "0.458257569495584"
            ]
          },
          "metadata": {},
          "execution_count": 3
        }
      ]
    },
    {
      "cell_type": "markdown",
      "source": [
        "A  survey found that 65% of all financial consumers were very satisfied with\n",
        "their primary financial institution. Suppose that 25 financial consumers are sampled\n",
        "and if the Gallup survey result still holds true today, what is the probability that\n",
        "exactly 19 are very satisfied with their primary financial institution?"
      ],
      "metadata": {
        "id": "rUs7SRiZxHcg"
      }
    },
    {
      "cell_type": "code",
      "source": [
        "print(binom.pmf(k=19,n=25,p=0.65))"
      ],
      "metadata": {
        "colab": {
          "base_uri": "https://localhost:8080/"
        },
        "id": "Jy2OGmPIw_i-",
        "outputId": "01778ccf-489c-4df4-d390-36d75033be2c"
      },
      "execution_count": 4,
      "outputs": [
        {
          "output_type": "stream",
          "name": "stdout",
          "text": [
            "0.09077799859322791\n"
          ]
        }
      ]
    },
    {
      "cell_type": "markdown",
      "source": [
        "According to the U.S. Census Bureau, approximately 6% of all workers in Jackson,\n",
        "Mississippi, are unemployed. In conducting a random telephone survey in Jackson,\n",
        "what is the probability of getting two or fewer unemployed workers in a sample of 20?"
      ],
      "metadata": {
        "id": "gPYkRi3PxSad"
      }
    },
    {
      "cell_type": "code",
      "source": [
        "binom.cdf(2,20,0.06)"
      ],
      "metadata": {
        "colab": {
          "base_uri": "https://localhost:8080/"
        },
        "id": "CD9A4R84xS1A",
        "outputId": "6277c83d-0423-4f88-cfda-98e4cd23441c"
      },
      "execution_count": 5,
      "outputs": [
        {
          "output_type": "execute_result",
          "data": {
            "text/plain": [
              "0.8850275957378545"
            ]
          },
          "metadata": {},
          "execution_count": 5
        }
      ]
    },
    {
      "cell_type": "code",
      "source": [
        "from scipy.stats import binom \n",
        "import matplotlib.pyplot as plt \n",
        "# setting the values  of n and p \n",
        "n = 20\n",
        "p = 0.06\n",
        "# defining list of r values \n",
        "r_values = list(range(n + 1)) \n",
        "print(r_values)\n",
        "# list of pmf values \n",
        "dist = [binom.pmf(r, n, p) for r in r_values ] \n",
        "# plotting the graph \n",
        "\n",
        "plt.bar(r_values, dist) \n",
        "\n",
        "plt.show()\n"
      ],
      "metadata": {
        "colab": {
          "base_uri": "https://localhost:8080/",
          "height": 282
        },
        "id": "OOpPAiHZxXGz",
        "outputId": "b36d0b1c-5131-40f1-99f4-3ea8cd6d3f26"
      },
      "execution_count": 7,
      "outputs": [
        {
          "output_type": "stream",
          "name": "stdout",
          "text": [
            "[0, 1, 2, 3, 4, 5, 6, 7, 8, 9, 10, 11, 12, 13, 14, 15, 16, 17, 18, 19, 20]\n"
          ]
        },
        {
          "output_type": "display_data",
          "data": {
            "image/png": "[encoded data removed]",
            "text/plain": [
              "<Figure size 432x288 with 1 Axes>"
            ]
          },
          "metadata": {
            "needs_background": "light"
          }
        }
      ]
    },
    {
      "cell_type": "markdown",
      "source": [
        "Poisson Problems"
      ],
      "metadata": {
        "id": "yS6x_SbBx0XW"
      }
    },
    {
      "cell_type": "code",
      "source": [
        "from scipy.stats import poisson"
      ],
      "metadata": {
        "id": "Q19ZgNA8xmgB"
      },
      "execution_count": 8,
      "outputs": []
    },
    {
      "cell_type": "markdown",
      "source": [
        "Suppose bank customers arrive randomly on weekday afternoons at an average of 3.2\n",
        "customers every 4 minutes. What is the probability of exactly 5 customers arriving in a\n",
        "4-minute interval on a weekday afternoon? "
      ],
      "metadata": {
        "id": "iKYoG9FQx-HC"
      }
    },
    {
      "cell_type": "code",
      "source": [
        "poisson.pmf(5,3.2)"
      ],
      "metadata": {
        "colab": {
          "base_uri": "https://localhost:8080/"
        },
        "id": "8oEA79jZx7hZ",
        "outputId": "9006db4d-2c40-4a0f-c2a8-ed5affcd050e"
      },
      "execution_count": 9,
      "outputs": [
        {
          "output_type": "execute_result",
          "data": {
            "text/plain": [
              "0.11397938346351824"
            ]
          },
          "metadata": {},
          "execution_count": 9
        }
      ]
    },
    {
      "cell_type": "markdown",
      "source": [
        "Bank customers arrive randomly on weekday afternoons at an average of 3.2 customers\n",
        "every 4 minutes. What is the probability of having more than 7 customers in\n",
        "a 4-minute interval on a weekday afternoon?"
      ],
      "metadata": {
        "id": "ZFxfAvZuywdh"
      }
    },
    {
      "cell_type": "code",
      "source": [
        "p=poisson.cdf(7,3.2) \n",
        "\n",
        "prob_more=1-p\n",
        "prob_more"
      ],
      "metadata": {
        "colab": {
          "base_uri": "https://localhost:8080/"
        },
        "id": "qZcX7yXRx-iA",
        "outputId": "864d30eb-3905-436a-c595-812d492ab913"
      },
      "execution_count": 10,
      "outputs": [
        {
          "output_type": "execute_result",
          "data": {
            "text/plain": [
              "0.01682984174895752"
            ]
          },
          "metadata": {},
          "execution_count": 10
        }
      ]
    },
    {
      "cell_type": "markdown",
      "source": [
        "A bank has an average random arrival rate of 3.2 customers every 4 minutes. What\n",
        "is the probability of getting exactly 10 customers during an 8-minute interval?"
      ],
      "metadata": {
        "id": "fRKhAjJhy38A"
      }
    },
    {
      "cell_type": "code",
      "source": [
        "poisson.pmf(10,6.4) #6.4 per unit of 8 intervals lambda = 6.4 and per unit time is 8 interval"
      ],
      "metadata": {
        "colab": {
          "base_uri": "https://localhost:8080/"
        },
        "id": "ST6uWi6Pywym",
        "outputId": "d767e4bc-695e-42bf-dc0a-992eb67f03d2"
      },
      "execution_count": 13,
      "outputs": [
        {
          "output_type": "execute_result",
          "data": {
            "text/plain": [
              "0.052790043854115495"
            ]
          },
          "metadata": {},
          "execution_count": 13
        }
      ]
    },
    {
      "cell_type": "code",
      "source": [
        "from scipy.stats import poisson\n",
        "import matplotlib.pyplot as plt\n",
        "\n",
        "\n",
        "\n",
        "mu = 3.2/4 #customers per unit time\n",
        "mean, var, skew, kurt = poisson.stats(mu, moments='mvsk')\n",
        "\n",
        "print(mean, var, skew, kurt)"
      ],
      "metadata": {
        "colab": {
          "base_uri": "https://localhost:8080/"
        },
        "id": "IChZFj4jy4Sd",
        "outputId": "8fcda24e-f989-4b82-b75a-3fcbc3d5fe5c"
      },
      "execution_count": 33,
      "outputs": [
        {
          "output_type": "stream",
          "name": "stdout",
          "text": [
            "0.8 0.8 1.118033988749895 1.25\n"
          ]
        }
      ]
    },
    {
      "cell_type": "code",
      "source": [
        "from scipy.stats import poisson\n",
        "import matplotlib.pyplot as plt\n",
        "fig, ax = plt.subplots(1, 1)\n",
        "\n",
        "mu = 0.6\n",
        "mean, var, skew, kurt = poisson.stats(mu, moments='mvsk')\n",
        "\n",
        "x = np.arange(poisson.ppf(0.01, mu),\n",
        "              poisson.ppf(0.99, mu)) # inverse of cdf\n",
        "\n",
        "ax.vlines(x, 0, poisson.pmf(x, mu), colors='b', lw=5, alpha=0.5)"
      ],
      "metadata": {
        "colab": {
          "base_uri": "https://localhost:8080/",
          "height": 282
        },
        "id": "iiSA--ORzhF2",
        "outputId": "936927db-ac16-4e19-fdd8-33e5ae89abf5"
      },
      "execution_count": 32,
      "outputs": [
        {
          "output_type": "execute_result",
          "data": {
            "text/plain": [
              "<matplotlib.collections.LineCollection at 0x7f7311ce6390>"
            ]
          },
          "metadata": {},
          "execution_count": 32
        },
        {
          "output_type": "display_data",
          "data": {
            "image/png": "[encoded data removed]",
            "text/plain": [
              "<Figure size 432x288 with 1 Axes>"
            ]
          },
          "metadata": {
            "needs_background": "light"
          }
        }
      ]
    },
    {
      "cell_type": "markdown",
      "source": [
        "Hypergeometric Distribution"
      ],
      "metadata": {
        "id": "RhPfkWQm117z"
      }
    },
    {
      "cell_type": "markdown",
      "source": [
        "Suppose 18 major computer companies operate in the United States and that 12 are\n",
        "located in California’s Silicon Valley. If three computer companies are selected randomly\n",
        "from the entire list, what is the probability that one or more of the selected\n",
        "companies are located in the Silicon Valley?"
      ],
      "metadata": {
        "id": "AUSY-nIW16ig"
      }
    },
    {
      "cell_type": "code",
      "source": [
        "from scipy.stats import hypergeom\n",
        "p=hypergeom.sf(0,18,3,12)  #hypergeom.sf(x-1,N,n,A)     # sf=1-cdf\n",
        "p"
      ],
      "metadata": {
        "colab": {
          "base_uri": "https://localhost:8080/"
        },
        "id": "VCLZGti-zrqE",
        "outputId": "9aacf673-44f8-47f0-a1b8-9b887441208a"
      },
      "execution_count": 34,
      "outputs": [
        {
          "output_type": "execute_result",
          "data": {
            "text/plain": [
              "0.9754901960784306"
            ]
          },
          "metadata": {},
          "execution_count": 34
        }
      ]
    },
    {
      "cell_type": "code",
      "source": [
        ""
      ],
      "metadata": {
        "id": "JHi-QxRSz4sp"
      },
      "execution_count": null,
      "outputs": []
    }
  ]
}